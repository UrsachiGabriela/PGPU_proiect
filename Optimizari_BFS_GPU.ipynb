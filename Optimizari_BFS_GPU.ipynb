{
  "nbformat": 4,
  "nbformat_minor": 0,
  "metadata": {
    "colab": {
      "provenance": [],
      "include_colab_link": true
    },
    "kernelspec": {
      "name": "python3",
      "display_name": "Python 3"
    },
    "language_info": {
      "name": "python"
    },
    "accelerator": "GPU"
  },
  "cells": [
    {
      "cell_type": "markdown",
      "metadata": {
        "id": "view-in-github",
        "colab_type": "text"
      },
      "source": [
        "<a href=\"https://colab.research.google.com/github/UrsachiGabriela/PGPU_proiect/blob/main/Optimizari_BFS_GPU.ipynb\" target=\"_parent\"><img src=\"https://colab.research.google.com/assets/colab-badge.svg\" alt=\"Open In Colab\"/></a>"
      ]
    },
    {
      "cell_type": "markdown",
      "metadata": {
        "id": "2WkOA4mcN7Hj"
      },
      "source": [
        "# PGPU - proiect\n"
      ]
    },
    {
      "cell_type": "markdown",
      "source": [
        "# Generare graf"
      ],
      "metadata": {
        "id": "ohn9ZeItRf8F"
      }
    },
    {
      "cell_type": "code",
      "source": [
        "%%writefile graph_generator.cpp\n",
        "\n",
        "#include <iostream>\n",
        "#include <vector>\n",
        "#include <fstream>\n",
        "#include <cstdlib>\n",
        "#include <ctime>\n",
        "#include <algorithm>\n",
        "\n",
        "using namespace std;\n",
        "\n",
        "vector<vector<int>> generateRandomGraph(int numNodes, int numEdges) {\n",
        "    vector<vector<int>> graph(numNodes);\n",
        "    srand(time(0));\n",
        "\n",
        "    for (int i = 0; i < numEdges; ++i) {\n",
        "        int u = rand() % numNodes;\n",
        "        int v = rand() % numNodes;\n",
        "\n",
        "        while (u == v || find(graph[u].begin(), graph[u].end(), v) != graph[u].end()) {\n",
        "            u = rand() % numNodes;\n",
        "            v = rand() % numNodes;\n",
        "        }\n",
        "        graph[u].push_back(v);\n",
        "        graph[v].push_back(u);\n",
        "    }\n",
        "\n",
        "    return graph;\n",
        "}\n",
        "\n",
        "void writeGraphToFile(const string& filename, const vector<vector<int>>& graph) {\n",
        "    ofstream outputFile(filename);\n",
        "    if (!outputFile) {\n",
        "        cerr << \"Eroare la deschiderea fisierului pentru scriere!\" << endl;\n",
        "        return;\n",
        "    }\n",
        "\n",
        "    for (const auto& neighbors : graph) {\n",
        "        for (size_t i = 0; i < neighbors.size(); ++i) {\n",
        "            outputFile << neighbors[i];\n",
        "            if (i != neighbors.size() - 1) {\n",
        "                outputFile << \" \";\n",
        "            }\n",
        "        }\n",
        "        outputFile << endl;\n",
        "    }\n",
        "\n",
        "    outputFile.close();\n",
        "}\n",
        "\n",
        "int main() {\n",
        "    int numNodes = 1000;\n",
        "    int numEdges = 5000;\n",
        "\n",
        "    vector<vector<int>> graph = generateRandomGraph(numNodes, numEdges);\n",
        "\n",
        "    string filename = \"graph_output.txt\";\n",
        "    writeGraphToFile(filename, graph);\n",
        "\n",
        "    cout << \"Graf generat si salvat in \" << filename << endl;\n",
        "\n",
        "    return 0;\n",
        "}\n",
        "\n"
      ],
      "metadata": {
        "colab": {
          "base_uri": "https://localhost:8080/"
        },
        "id": "LWNNXXU2Re8P",
        "outputId": "15d041f9-7099-4444-953e-2f1c285dfcb4"
      },
      "execution_count": 1,
      "outputs": [
        {
          "output_type": "stream",
          "name": "stdout",
          "text": [
            "Writing graph_generator.cpp\n"
          ]
        }
      ]
    },
    {
      "cell_type": "code",
      "source": [
        "!g++ graph_generator.cpp -o graph_generator\n",
        "!./graph_generator\n"
      ],
      "metadata": {
        "colab": {
          "base_uri": "https://localhost:8080/"
        },
        "id": "J6VfwUP7SMQJ",
        "outputId": "97d92e6f-67e8-4ecc-afd3-eceb243fced2"
      },
      "execution_count": 2,
      "outputs": [
        {
          "output_type": "stream",
          "name": "stdout",
          "text": [
            "Graf generat si salvat in graph_output.txt\n"
          ]
        }
      ]
    },
    {
      "cell_type": "code",
      "source": [
        "from google.colab import files\n",
        "files.download('graph_output.txt')\n"
      ],
      "metadata": {
        "colab": {
          "base_uri": "https://localhost:8080/",
          "height": 17
        },
        "id": "XWM7AXsFSm7g",
        "outputId": "35e6711b-3f9c-400f-c413-941dfbc9547e"
      },
      "execution_count": null,
      "outputs": [
        {
          "output_type": "display_data",
          "data": {
            "text/plain": [
              "<IPython.core.display.Javascript object>"
            ],
            "application/javascript": [
              "\n",
              "    async function download(id, filename, size) {\n",
              "      if (!google.colab.kernel.accessAllowed) {\n",
              "        return;\n",
              "      }\n",
              "      const div = document.createElement('div');\n",
              "      const label = document.createElement('label');\n",
              "      label.textContent = `Downloading \"${filename}\": `;\n",
              "      div.appendChild(label);\n",
              "      const progress = document.createElement('progress');\n",
              "      progress.max = size;\n",
              "      div.appendChild(progress);\n",
              "      document.body.appendChild(div);\n",
              "\n",
              "      const buffers = [];\n",
              "      let downloaded = 0;\n",
              "\n",
              "      const channel = await google.colab.kernel.comms.open(id);\n",
              "      // Send a message to notify the kernel that we're ready.\n",
              "      channel.send({})\n",
              "\n",
              "      for await (const message of channel.messages) {\n",
              "        // Send a message to notify the kernel that we're ready.\n",
              "        channel.send({})\n",
              "        if (message.buffers) {\n",
              "          for (const buffer of message.buffers) {\n",
              "            buffers.push(buffer);\n",
              "            downloaded += buffer.byteLength;\n",
              "            progress.value = downloaded;\n",
              "          }\n",
              "        }\n",
              "      }\n",
              "      const blob = new Blob(buffers, {type: 'application/binary'});\n",
              "      const a = document.createElement('a');\n",
              "      a.href = window.URL.createObjectURL(blob);\n",
              "      a.download = filename;\n",
              "      div.appendChild(a);\n",
              "      a.click();\n",
              "      div.remove();\n",
              "    }\n",
              "  "
            ]
          },
          "metadata": {}
        },
        {
          "output_type": "display_data",
          "data": {
            "text/plain": [
              "<IPython.core.display.Javascript object>"
            ],
            "application/javascript": [
              "download(\"download_ed2524cf-6d1b-4587-bb8a-7b6a34167e44\", \"graph_output.txt\", 38916)"
            ]
          },
          "metadata": {}
        }
      ]
    },
    {
      "cell_type": "markdown",
      "source": [
        "# CPU"
      ],
      "metadata": {
        "id": "d22keM60TyrB"
      }
    },
    {
      "cell_type": "code",
      "source": [
        "%%writefile bfs_cpu.cpp\n",
        "\n",
        "#include <iostream>\n",
        "#include <vector>\n",
        "#include <queue>\n",
        "#include <set>\n",
        "#include <climits>\n",
        "#include <fstream>\n",
        "#include <sstream>\n",
        "#include <string>\n",
        "#include <time.h>\n",
        "\n",
        "using namespace std;\n",
        "\n",
        "vector<vector<int>> readGraphFromFile(const string& filename) {\n",
        "    ifstream inputFile(filename);\n",
        "    if (!inputFile) {\n",
        "        cerr << \"Eroare la deschiderea fisierului!\" << endl;\n",
        "        return {};\n",
        "    }\n",
        "\n",
        "    vector<vector<int>> graph;\n",
        "    string line;\n",
        "\n",
        "    while (getline(inputFile, line)) {\n",
        "        stringstream ss(line);\n",
        "        vector<int> neighbors;\n",
        "        int neighbor;\n",
        "\n",
        "        while (ss >> neighbor) {\n",
        "            neighbors.push_back(neighbor);\n",
        "        }\n",
        "\n",
        "        graph.push_back(neighbors);\n",
        "    }\n",
        "\n",
        "    inputFile.close();\n",
        "    return graph;\n",
        "}\n",
        "\n",
        "\n",
        "\n",
        "void bfs_cpu(const vector<vector<int>>& adjacencyList, int start_node, vector<int>& distance) {\n",
        "    queue<int> to_visit_queue;\n",
        "\n",
        "    fill(distance.begin(), distance.end(), INT_MAX);\n",
        "    distance[start_node] = 0;\n",
        "\n",
        "    to_visit_queue.push(start_node);\n",
        "\n",
        "    while (!to_visit_queue.empty()) {\n",
        "        int current = to_visit_queue.front();\n",
        "        to_visit_queue.pop();\n",
        "\n",
        "        //cout << current <<\", distance: \" << distance[current] << endl;\n",
        "\n",
        "        for (int neighbor : adjacencyList[current]) {\n",
        "            if (distance[neighbor] == INT_MAX) { // neighbor not visited yet\n",
        "                distance[neighbor] = distance[current] + 1;\n",
        "\n",
        "                to_visit_queue.push(neighbor);\n",
        "            }\n",
        "        }\n",
        "    }\n",
        "}\n",
        "\n",
        "int main() {\n",
        "    string filename = \"graph_output.txt\";\n",
        "    vector<vector<int>> graph = readGraphFromFile(filename);\n",
        "\n",
        "    //  for (int i = 0; i < graph.size(); ++i) {\n",
        "    //     cout << \"Node \" << i << \": \";\n",
        "    //     for (int neighbor : graph[i]) {\n",
        "    //         cout << neighbor << \" \";\n",
        "    //     }\n",
        "    //     cout << endl;\n",
        "    // }\n",
        "\n",
        "    vector<vector<int>> graph_small = {\n",
        "        {1, 2},\n",
        "        {0, 3, 4},\n",
        "        {0, 4, 5},\n",
        "        {1, 6},\n",
        "        {1, 2, 5},\n",
        "        {2, 4},\n",
        "        {3}\n",
        "    };\n",
        "\n",
        "    int start_node = 0;\n",
        "    vector<int> distance;\n",
        "    distance = vector<int>(graph.size());\n",
        "\n",
        "    clock_t tCPU;\n",
        "    tCPU = clock();\n",
        "\n",
        "    bfs_cpu(graph, start_node, distance);\n",
        "\n",
        "    tCPU = clock() - tCPU;\n",
        "    double timeTakenCPU = ((double)tCPU) / CLOCKS_PER_SEC * 1000;\n",
        "    printf(\"Graph [1000 nodes]: CPU took %f ms to execute \\n\", timeTakenCPU);\n",
        "\n",
        "\n",
        "    int start_node2 = 0;\n",
        "    vector<int> distance2;\n",
        "    distance2 = vector<int>(graph_small.size());\n",
        "\n",
        "    clock_t tCPU2;\n",
        "    tCPU2 = clock();\n",
        "\n",
        "    bfs_cpu(graph_small, start_node2, distance2);\n",
        "\n",
        "    tCPU2 = clock() - tCPU2;\n",
        "    double timeTakenCPU2 = ((double)tCPU2) / CLOCKS_PER_SEC * 1000;\n",
        "    printf(\"Graph [7 nodes]: CPU took %f ms to execute \\n\", timeTakenCPU2);\n",
        "\n",
        "    return 0;\n",
        "}"
      ],
      "metadata": {
        "colab": {
          "base_uri": "https://localhost:8080/"
        },
        "id": "EiKjU338Tx6C",
        "outputId": "81e345bd-7209-4865-f70f-18d900e58bf6"
      },
      "execution_count": 3,
      "outputs": [
        {
          "output_type": "stream",
          "name": "stdout",
          "text": [
            "Writing bfs_cpu.cpp\n"
          ]
        }
      ]
    },
    {
      "cell_type": "code",
      "source": [
        "%%shell\n",
        "g++ bfs_cpu.cpp -o bfs_cpu"
      ],
      "metadata": {
        "colab": {
          "base_uri": "https://localhost:8080/"
        },
        "id": "EzoS0wN8URGT",
        "outputId": "a5445f5c-d82e-4cdd-c008-c7fc021994dc"
      },
      "execution_count": 4,
      "outputs": [
        {
          "output_type": "execute_result",
          "data": {
            "text/plain": []
          },
          "metadata": {},
          "execution_count": 4
        }
      ]
    },
    {
      "cell_type": "code",
      "source": [
        "%%shell\n",
        "./bfs_cpu"
      ],
      "metadata": {
        "colab": {
          "base_uri": "https://localhost:8080/"
        },
        "id": "6gof_DEeUVFi",
        "outputId": "dae36777-50c8-451c-eec7-4cb0f7242270"
      },
      "execution_count": 5,
      "outputs": [
        {
          "output_type": "stream",
          "name": "stdout",
          "text": [
            "Graph [1000 nodes]: CPU took 0.251000 ms to execute \n",
            "Graph [7 nodes]: CPU took 0.002000 ms to execute \n"
          ]
        },
        {
          "output_type": "execute_result",
          "data": {
            "text/plain": []
          },
          "metadata": {},
          "execution_count": 5
        }
      ]
    },
    {
      "cell_type": "markdown",
      "source": [
        "# GPU"
      ],
      "metadata": {
        "id": "U9vXTSeGUBOe"
      }
    },
    {
      "cell_type": "code",
      "source": [
        "%%writefile bfs2.cu\n",
        "\n",
        "#include <iostream>\n",
        "#include <vector>\n",
        "#include <climits>\n",
        "#include <cuda_runtime.h>\n",
        "#include <fstream>\n",
        "#include <sstream>\n",
        "#include <string>\n",
        "\n",
        "using namespace std;\n",
        "\n",
        "\n",
        "cudaError_t bfs_gpu(const vector<vector<int>> &graph, int start_node, vector<int> &distance);\n",
        "\n",
        "__global__\n",
        "void simpleKernel(int level) {\n",
        "    printf(\"simple kernel\\n\");\n",
        "}\n",
        "\n",
        "\n",
        "__global__\n",
        "void computeNextLevel(int *adjacencyList, int *offsets, int *distance, int *currentFrontier, int frontierSize, int *nextFrontier, int *nextFrontierSize, int level) {\n",
        "    const int tid = blockIdx.x * blockDim.x + threadIdx.x;\n",
        "    if (tid >= frontierSize) return;\n",
        "\n",
        "    int currentNode = currentFrontier[tid];\n",
        "    int start = offsets[currentNode];\n",
        "    int end = offsets[currentNode + 1];\n",
        "\n",
        "    for (int i = start; i < end; ++i) {\n",
        "        int neighbor = adjacencyList[i];\n",
        "\n",
        "        if (atomicCAS(&distance[neighbor], INT_MAX, level + 1) == INT_MAX) {\n",
        "            int position = atomicAdd(nextFrontierSize, 1);\n",
        "            nextFrontier[position] = neighbor;\n",
        "        }\n",
        "    }\n",
        "}\n",
        "\n",
        "cudaError_t bfs_gpu(const vector<vector<int>> &graph, int start_node, vector<int> &distance) {\n",
        "    cudaError_t cudaStatus;\n",
        "\n",
        "    int frontier_size = 1;\n",
        "    const int NEXT_FRONTIER_SIZE = 0;\n",
        "    int level = 0;\n",
        "    int threads_per_block = 256;\n",
        "\n",
        "    int num_nodes = graph.size();\n",
        "\n",
        "    vector<int> adjacencyList;\n",
        "    vector<int> offsets(num_nodes + 1, 0);\n",
        "\n",
        "    for (int i = 0; i < num_nodes; ++i) {\n",
        "        offsets[i + 1] = offsets[i] + graph[i].size();\n",
        "        adjacencyList.insert(adjacencyList.end(), graph[i].begin(), graph[i].end());\n",
        "    }\n",
        "\n",
        "    int *d_adjacencyList = 0;\n",
        "    int *d_offsets = 0;\n",
        "    int *d_distance = 0;\n",
        "    int *d_frontier = 0;\n",
        "    int *d_nextFrontier = 0;\n",
        "    int *d_nextFrontierSize = 0;\n",
        "\n",
        "    cudaStatus = cudaMalloc((void**)&d_adjacencyList, adjacencyList.size() * sizeof(int));\n",
        "    if (cudaStatus != cudaSuccess) {\n",
        "        fprintf(stderr, \"cudaMalloc failed for d_adjacencyList!\");\n",
        "        goto Error;\n",
        "    }\n",
        "\n",
        "    cudaStatus = cudaMalloc((void**)&d_offsets, offsets.size() * sizeof(int));\n",
        "    if (cudaStatus != cudaSuccess) {\n",
        "        fprintf(stderr, \"cudaMalloc failed for d_offsets!\");\n",
        "        goto Error;\n",
        "    }\n",
        "\n",
        "    cudaStatus = cudaMalloc((void**)&d_distance, num_nodes * sizeof(int));\n",
        "    if (cudaStatus != cudaSuccess) {\n",
        "        fprintf(stderr, \"cudaMalloc failed for d_distance!\");\n",
        "        goto Error;\n",
        "    }\n",
        "\n",
        "    cudaStatus = cudaMalloc((void**)&d_frontier, num_nodes * sizeof(int));\n",
        "    if (cudaStatus != cudaSuccess) {\n",
        "        fprintf(stderr, \"cudaMalloc failed for d_frontier!\");\n",
        "        goto Error;\n",
        "    }\n",
        "\n",
        "    cudaStatus = cudaMalloc((void**)&d_nextFrontier, num_nodes * sizeof(int));\n",
        "    if (cudaStatus != cudaSuccess) {\n",
        "        fprintf(stderr, \"cudaMalloc failed for d_nextFrontier!\");\n",
        "        goto Error;\n",
        "    }\n",
        "\n",
        "    cudaStatus = cudaMalloc((void**)&d_nextFrontierSize, sizeof(int));\n",
        "    if (cudaStatus != cudaSuccess) {\n",
        "        fprintf(stderr, \"cudaMalloc failed for d_nextFrontierSize!\");\n",
        "        goto Error;\n",
        "    }\n",
        "\n",
        "\n",
        "    // host to device\n",
        "    cudaMemcpy(d_adjacencyList, adjacencyList.data(), adjacencyList.size() * sizeof(int), cudaMemcpyHostToDevice);\n",
        "    cudaMemcpy(d_offsets, offsets.data(), offsets.size() * sizeof(int), cudaMemcpyHostToDevice);\n",
        "\n",
        "    distance.assign(num_nodes, INT_MAX);\n",
        "    distance[start_node] = 0;\n",
        "    cudaMemcpy(d_distance, distance.data(), num_nodes * sizeof(int), cudaMemcpyHostToDevice);\n",
        "    cudaMemcpy(d_frontier, &start_node, sizeof(int), cudaMemcpyHostToDevice);\n",
        "\n",
        "    while (frontier_size > 0) {\n",
        "        cudaMemcpy(d_nextFrontierSize, &NEXT_FRONTIER_SIZE, sizeof(int), cudaMemcpyHostToDevice);\n",
        "\n",
        "        int *d_currentQueue = (level % 2 == 0) ? d_frontier : d_nextFrontier;\n",
        "        int *d_nextQueue = (level % 2 == 0) ? d_nextFrontier : d_frontier;\n",
        "\n",
        "        int blocks = (frontier_size + threads_per_block - 1) / threads_per_block;\n",
        "        computeNextLevel<<<blocks, threads_per_block>>>(d_adjacencyList, d_offsets, d_distance, d_currentQueue, frontier_size, d_nextQueue, d_nextFrontierSize, level);\n",
        "\n",
        "        cudaError_t err = cudaGetLastError();\n",
        "        if (err != cudaSuccess) {\n",
        "            cout << \"CUDA error: \" << err << endl;\n",
        "            exit(-1);\n",
        "        }\n",
        "        cudaDeviceSynchronize();\n",
        "\n",
        "        cudaMemcpy(&frontier_size, d_nextFrontierSize, sizeof(int), cudaMemcpyDeviceToHost);\n",
        "\n",
        "        //cout << \"Level \" << level << \", frontier size: \" << frontier_size << endl;\n",
        "\n",
        "        ++level;\n",
        "    }\n",
        "\n",
        "    // device to host\n",
        "    cudaMemcpy(distance.data(), d_distance, num_nodes * sizeof(int), cudaMemcpyDeviceToHost);\n",
        "\n",
        "Error:\n",
        "    cudaFree(d_adjacencyList);\n",
        "    cudaFree(d_offsets);\n",
        "    cudaFree(d_distance);\n",
        "    cudaFree(d_frontier);\n",
        "    cudaFree(d_nextFrontier);\n",
        "    cudaFree(d_nextFrontierSize);\n",
        "\n",
        "    return cudaStatus;\n",
        "}\n",
        "\n",
        "\n",
        "\n",
        "vector<vector<int>> readGraphFromFile(const string& filename) {\n",
        "    ifstream inputFile(filename);\n",
        "    if (!inputFile) {\n",
        "        cerr << \"Eroare la deschiderea fisierului!\" << endl;\n",
        "        return {};\n",
        "    }\n",
        "\n",
        "    vector<vector<int>> graph;\n",
        "    string line;\n",
        "\n",
        "    while (getline(inputFile, line)) {\n",
        "        stringstream ss(line);\n",
        "        vector<int> neighbors;\n",
        "        int neighbor;\n",
        "\n",
        "        while (ss >> neighbor) {\n",
        "            neighbors.push_back(neighbor);\n",
        "        }\n",
        "\n",
        "        graph.push_back(neighbors);\n",
        "    }\n",
        "\n",
        "    inputFile.close();\n",
        "    return graph;\n",
        "}\n",
        "\n",
        "int main() {\n",
        "\n",
        "    // ------------------------Graph [1000 nodes]-------------------------------\n",
        "\n",
        "    string filename = \"graph_output.txt\";\n",
        "    vector<vector<int>> graph = readGraphFromFile(filename);\n",
        "\n",
        "\n",
        "    int start_node = 0;\n",
        "    vector<int> distance;\n",
        "\n",
        "    clock_t tGPU;\n",
        "    tGPU = clock();\n",
        "\n",
        "    cudaError_t cudaStatus = bfs_gpu(graph, start_node, distance);\n",
        "\n",
        "    if (cudaStatus != cudaSuccess) {\n",
        "        fprintf(stderr, \"bfs_gpu failed!\");\n",
        "        return 1;\n",
        "    }\n",
        "\n",
        "    tGPU = clock() - tGPU;\n",
        "    double timeTakenGPU = ((double)tGPU) / CLOCKS_PER_SEC * 1000;\n",
        "    printf(\"Graph [1000 nodes]: GPU took %f ms to execute \\n\", timeTakenGPU);\n",
        "\n",
        "    //for (int i = 0; i < distance.size(); ++i) {\n",
        "    //    cout << \"Node \" << i << \", Distance: \" << distance[i] << endl;\n",
        "    //}\n",
        "\n",
        "\n",
        "    // -------------------------------------------------------------------------\n",
        "\n",
        "\n",
        "    // ----------------------------Graph [7 nodes]------------------------------\n",
        "    /*\n",
        "    vector<vector<int>> graph_small = {\n",
        "        {1, 2},\n",
        "        {0, 3, 4},\n",
        "        {0, 4, 5},\n",
        "        {1, 6},\n",
        "        {1, 2, 5},\n",
        "        {2, 4},\n",
        "        {3}\n",
        "    };\n",
        "\n",
        "\n",
        "    int start_node2 = 0;\n",
        "    vector<int> distance2;\n",
        "\n",
        "    clock_t tGPU2;\n",
        "    tGPU2 = clock();\n",
        "\n",
        "    cudaError_t cudaStatus2 = bfs_gpu(graph_small, start_node2, distance2);\n",
        "\n",
        "\n",
        "    tGPU2 = clock() - tGPU2;\n",
        "    double timeTakenGPU2 = ((double)tGPU2) / CLOCKS_PER_SEC * 1000;\n",
        "    printf(\"Graph [7 nodes]: GPU took %f ms to execute \\n\", timeTakenGPU2);\n",
        "\n",
        "    if (cudaStatus2 != cudaSuccess) {\n",
        "        fprintf(stderr, \"bfs_gpu failed!\");\n",
        "        return 1;\n",
        "    }\n",
        "    */\n",
        "\n",
        "    return 0;\n",
        "}"
      ],
      "metadata": {
        "colab": {
          "base_uri": "https://localhost:8080/"
        },
        "id": "AZ97LFje9RVs",
        "outputId": "eb009659-d091-4879-daed-9bb1b17b852a"
      },
      "execution_count": 20,
      "outputs": [
        {
          "output_type": "stream",
          "name": "stdout",
          "text": [
            "Overwriting bfs2.cu\n"
          ]
        }
      ]
    },
    {
      "cell_type": "markdown",
      "metadata": {
        "id": "Y7Tz-xo3d1oX"
      },
      "source": [
        "That's another big speedup from running multiple blocks!"
      ]
    },
    {
      "cell_type": "code",
      "source": [
        "%%shell\n",
        "\n",
        "nvcc -Xptxas -v bfs2.cu -o bfs2\n",
        "\n",
        "nvprof  ./bfs2\n",
        "\n",
        "#nvprof --print-gpu-trace ./bfs2\n",
        "\n",
        "#ncu -f --set full -o bfs2 ./bfs2"
      ],
      "metadata": {
        "colab": {
          "base_uri": "https://localhost:8080/"
        },
        "id": "j6l78K_m9Wdr",
        "outputId": "5af07286-8a2c-4b34-a2f1-97e4be01b20a"
      },
      "execution_count": 26,
      "outputs": [
        {
          "output_type": "stream",
          "name": "stdout",
          "text": [
            "ptxas info    : 15 bytes gmem\n",
            "ptxas info    : Compiling entry function '_Z16computeNextLevelPiS_S_S_iS_S_i' for 'sm_52'\n",
            "ptxas info    : Function properties for _Z16computeNextLevelPiS_S_S_iS_S_i\n",
            "    0 bytes stack frame, 0 bytes spill stores, 0 bytes spill loads\n",
            "ptxas info    : Used 17 registers, 380 bytes cmem[0], 4 bytes cmem[2]\n",
            "ptxas info    : Compiling entry function '_Z12simpleKerneli' for 'sm_52'\n",
            "ptxas info    : Function properties for _Z12simpleKerneli\n",
            "    0 bytes stack frame, 0 bytes spill stores, 0 bytes spill loads\n",
            "ptxas info    : Used 8 registers, 324 bytes cmem[0]\n",
            "==24699== NVPROF is profiling process 24699, command: ./bfs2\n",
            "Graph [1000 nodes]: GPU took 121.300000 ms to execute \n",
            "==24699== Profiling application: ./bfs2\n",
            "==24699== Profiling result:\n",
            "            Type  Time(%)      Time     Calls       Avg       Min       Max  Name\n",
            " GPU activities:   83.46%  133.02us         6  22.170us  10.208us  31.071us  computeNextLevel(int*, int*, int*, int*, int, int*, int*, int)\n",
            "                    8.39%  13.376us         7  1.9100us  1.7280us  2.2720us  [CUDA memcpy DtoH]\n",
            "                    8.15%  12.992us        10  1.2990us     672ns  6.0160us  [CUDA memcpy HtoD]\n",
            "      API calls:   96.13%  87.981ms         6  14.663ms  2.4980us  87.963ms  cudaMalloc\n",
            "                    2.99%  2.7361ms         6  456.01us  4.2770us  2.7094ms  cudaLaunchKernel\n",
            "                    0.31%  281.66us         6  46.942us  2.4400us  245.47us  cudaFree\n",
            "                    0.23%  211.79us        17  12.458us  3.2460us  55.366us  cudaMemcpy\n",
            "                    0.16%  147.59us         6  24.597us  7.3350us  35.204us  cudaDeviceSynchronize\n",
            "                    0.15%  139.27us       114  1.2210us     144ns  55.072us  cuDeviceGetAttribute\n",
            "                    0.01%  12.582us         1  12.582us  12.582us  12.582us  cuDeviceGetName\n",
            "                    0.01%  6.6180us         1  6.6180us  6.6180us  6.6180us  cuDeviceGetPCIBusId\n",
            "                    0.01%  4.8310us         1  4.8310us  4.8310us  4.8310us  cuDeviceTotalMem\n",
            "                    0.00%  1.5870us         3     529ns     210ns  1.1460us  cuDeviceGetCount\n",
            "                    0.00%  1.4080us         6     234ns     171ns     462ns  cudaGetLastError\n",
            "                    0.00%     930ns         2     465ns     195ns     735ns  cuDeviceGet\n",
            "                    0.00%     563ns         1     563ns     563ns     563ns  cuModuleGetLoadingMode\n",
            "                    0.00%     221ns         1     221ns     221ns     221ns  cuDeviceGetUuid\n"
          ]
        },
        {
          "output_type": "execute_result",
          "data": {
            "text/plain": []
          },
          "metadata": {},
          "execution_count": 26
        }
      ]
    },
    {
      "cell_type": "markdown",
      "source": [
        "# **Optimizare 1 -- shared memory**"
      ],
      "metadata": {
        "id": "_PSZXTA9IzQA"
      }
    },
    {
      "cell_type": "code",
      "source": [
        "%%writefile bfs_optimized.cu\n",
        "\n",
        "#include <iostream>\n",
        "#include <vector>\n",
        "#include <climits>\n",
        "#include <cuda_runtime.h>\n",
        "#include <fstream>\n",
        "#include <sstream>\n",
        "#include <string>\n",
        "\n",
        "using namespace std;\n",
        "\n",
        "\n",
        "cudaError_t bfs_gpu(const vector<vector<int>> &graph, int start_node, vector<int> &distance);\n",
        "\n",
        "\n",
        "__global__\n",
        "void computeNextLevelSharedMemory(int *adjacencyList, int *offsets, int *distance,\n",
        "                      int *currentFrontier, int frontierSize,\n",
        "                      int *nextFrontier, int *nextFrontierSize, int level) {\n",
        "\n",
        "    const int tid = threadIdx.x;\n",
        "    const int globalTid = blockIdx.x * blockDim.x + threadIdx.x;\n",
        "\n",
        "    extern __shared__ int sharedFrontier[];\n",
        "\n",
        "    if (globalTid < frontierSize) {\n",
        "        sharedFrontier[tid] = currentFrontier[globalTid];\n",
        "    }\n",
        "    __syncthreads();\n",
        "\n",
        "    if (tid < frontierSize) {\n",
        "        int currentNode = sharedFrontier[tid];\n",
        "        int start = offsets[currentNode];\n",
        "        int end = offsets[currentNode + 1];\n",
        "\n",
        "        for (int i = start; i < end; ++i) {\n",
        "            int neighbor = adjacencyList[i];\n",
        "\n",
        "            if (atomicCAS(&distance[neighbor], INT_MAX, level + 1) == INT_MAX) {\n",
        "                int position = atomicAdd(nextFrontierSize, 1);\n",
        "                nextFrontier[position] = neighbor;\n",
        "            }\n",
        "        }\n",
        "    }\n",
        "}\n",
        "\n",
        "\n",
        "cudaError_t bfs_gpu(const vector<vector<int>> &graph, int start_node, vector<int> &distance) {\n",
        "    cudaError_t cudaStatus;\n",
        "\n",
        "    int frontier_size = 1;\n",
        "    const int NEXT_FRONTIER_SIZE = 0;\n",
        "    int level = 0;\n",
        "    int threads_per_block = 256;\n",
        "\n",
        "    int num_nodes = graph.size();\n",
        "\n",
        "    vector<int> adjacencyList;\n",
        "    vector<int> offsets(num_nodes + 1, 0);\n",
        "\n",
        "    for (int i = 0; i < num_nodes; ++i) {\n",
        "        offsets[i + 1] = offsets[i] + graph[i].size();\n",
        "        adjacencyList.insert(adjacencyList.end(), graph[i].begin(), graph[i].end());\n",
        "    }\n",
        "\n",
        "    int *d_adjacencyList = 0;\n",
        "    int *d_offsets = 0;\n",
        "    int *d_distance = 0;\n",
        "    int *d_frontier = 0;\n",
        "    int *d_nextFrontier = 0;\n",
        "    int *d_nextFrontierSize = 0;\n",
        "\n",
        "    cudaStatus = cudaMalloc((void**)&d_adjacencyList, adjacencyList.size() * sizeof(int));\n",
        "    if (cudaStatus != cudaSuccess) {\n",
        "        fprintf(stderr, \"cudaMalloc failed for d_adjacencyList!\");\n",
        "        goto Error;\n",
        "    }\n",
        "\n",
        "    cudaStatus = cudaMalloc((void**)&d_offsets, offsets.size() * sizeof(int));\n",
        "    if (cudaStatus != cudaSuccess) {\n",
        "        fprintf(stderr, \"cudaMalloc failed for d_offsets!\");\n",
        "        goto Error;\n",
        "    }\n",
        "\n",
        "    cudaStatus = cudaMalloc((void**)&d_distance, num_nodes * sizeof(int));\n",
        "    if (cudaStatus != cudaSuccess) {\n",
        "        fprintf(stderr, \"cudaMalloc failed for d_distance!\");\n",
        "        goto Error;\n",
        "    }\n",
        "\n",
        "    cudaStatus = cudaMalloc((void**)&d_frontier, num_nodes * sizeof(int));\n",
        "    if (cudaStatus != cudaSuccess) {\n",
        "        fprintf(stderr, \"cudaMalloc failed for d_frontier!\");\n",
        "        goto Error;\n",
        "    }\n",
        "\n",
        "    cudaStatus = cudaMalloc((void**)&d_nextFrontier, num_nodes * sizeof(int));\n",
        "    if (cudaStatus != cudaSuccess) {\n",
        "        fprintf(stderr, \"cudaMalloc failed for d_nextFrontier!\");\n",
        "        goto Error;\n",
        "    }\n",
        "\n",
        "    cudaStatus = cudaMalloc((void**)&d_nextFrontierSize, sizeof(int));\n",
        "    if (cudaStatus != cudaSuccess) {\n",
        "        fprintf(stderr, \"cudaMalloc failed for d_nextFrontierSize!\");\n",
        "        goto Error;\n",
        "    }\n",
        "\n",
        "\n",
        "    // host to device\n",
        "    cudaMemcpy(d_adjacencyList, adjacencyList.data(), adjacencyList.size() * sizeof(int), cudaMemcpyHostToDevice);\n",
        "    cudaMemcpy(d_offsets, offsets.data(), offsets.size() * sizeof(int), cudaMemcpyHostToDevice);\n",
        "\n",
        "    distance.assign(num_nodes, INT_MAX);\n",
        "    distance[start_node] = 0;\n",
        "    cudaMemcpy(d_distance, distance.data(), num_nodes * sizeof(int), cudaMemcpyHostToDevice);\n",
        "    cudaMemcpy(d_frontier, &start_node, sizeof(int), cudaMemcpyHostToDevice);\n",
        "\n",
        "    while (frontier_size > 0) {\n",
        "        cudaMemcpy(d_nextFrontierSize, &NEXT_FRONTIER_SIZE, sizeof(int), cudaMemcpyHostToDevice);\n",
        "\n",
        "        int *d_currentQueue = (level % 2 == 0) ? d_frontier : d_nextFrontier;\n",
        "        int *d_nextQueue = (level % 2 == 0) ? d_nextFrontier : d_frontier;\n",
        "\n",
        "        int blocks = (frontier_size + threads_per_block - 1) / threads_per_block;\n",
        "        int sharedMemorySize = threads_per_block * sizeof(int);\n",
        "        computeNextLevelSharedMemory<<<blocks, threads_per_block, sharedMemorySize>>>(d_adjacencyList, d_offsets, d_distance, d_currentQueue, frontier_size, d_nextQueue, d_nextFrontierSize, level);\n",
        "\n",
        "        cudaError_t err = cudaGetLastError();\n",
        "        if (err != cudaSuccess) {\n",
        "            cout << \"CUDA error: \" << err << endl;\n",
        "            exit(-1);\n",
        "        }\n",
        "        cudaDeviceSynchronize();\n",
        "\n",
        "        cudaMemcpy(&frontier_size, d_nextFrontierSize, sizeof(int), cudaMemcpyDeviceToHost);\n",
        "\n",
        "        //cout << \"Level \" << level << \", frontier size: \" << frontier_size << endl;\n",
        "\n",
        "        ++level;\n",
        "    }\n",
        "\n",
        "    // device to host\n",
        "    cudaMemcpy(distance.data(), d_distance, num_nodes * sizeof(int), cudaMemcpyDeviceToHost);\n",
        "\n",
        "Error:\n",
        "    cudaFree(d_adjacencyList);\n",
        "    cudaFree(d_offsets);\n",
        "    cudaFree(d_distance);\n",
        "    cudaFree(d_frontier);\n",
        "    cudaFree(d_nextFrontier);\n",
        "    cudaFree(d_nextFrontierSize);\n",
        "\n",
        "    return cudaStatus;\n",
        "}\n",
        "\n",
        "\n",
        "\n",
        "vector<vector<int>> readGraphFromFile(const string& filename) {\n",
        "    ifstream inputFile(filename);\n",
        "    if (!inputFile) {\n",
        "        cerr << \"Eroare la deschiderea fisierului!\" << endl;\n",
        "        return {};\n",
        "    }\n",
        "\n",
        "    vector<vector<int>> graph;\n",
        "    string line;\n",
        "\n",
        "    while (getline(inputFile, line)) {\n",
        "        stringstream ss(line);\n",
        "        vector<int> neighbors;\n",
        "        int neighbor;\n",
        "\n",
        "        while (ss >> neighbor) {\n",
        "            neighbors.push_back(neighbor);\n",
        "        }\n",
        "\n",
        "        graph.push_back(neighbors);\n",
        "    }\n",
        "\n",
        "    inputFile.close();\n",
        "    return graph;\n",
        "}\n",
        "\n",
        "int main() {\n",
        "\n",
        "    // ------------------------Graph [1000 nodes]-------------------------------\n",
        "/*\n",
        "    string filename = \"graph_output.txt\";\n",
        "    vector<vector<int>> graph = readGraphFromFile(filename);\n",
        "\n",
        "\n",
        "    int start_node = 0;\n",
        "    vector<int> distance;\n",
        "\n",
        "    clock_t tGPU;\n",
        "    tGPU = clock();\n",
        "\n",
        "    cudaError_t cudaStatus = bfs_gpu(graph, start_node, distance);\n",
        "\n",
        "    if (cudaStatus != cudaSuccess) {\n",
        "        fprintf(stderr, \"bfs_gpu failed!\");\n",
        "        return 1;\n",
        "    }\n",
        "\n",
        "    tGPU = clock() - tGPU;\n",
        "    double timeTakenGPU = ((double)tGPU) / CLOCKS_PER_SEC * 1000;\n",
        "    printf(\"Graph [1000 nodes]: GPU took %f ms to execute \\n\", timeTakenGPU);\n",
        "\n",
        "    //for (int i = 0; i < distance.size(); ++i) {\n",
        "    //    cout << \"Node \" << i << \", Distance: \" << distance[i] << endl;\n",
        "    //}\n",
        "*/\n",
        "\n",
        "    // -------------------------------------------------------------------------\n",
        "\n",
        "\n",
        "    // ----------------------------Graph [7 nodes]------------------------------\n",
        "\n",
        "    vector<vector<int>> graph_small = {\n",
        "        {1, 2},\n",
        "        {0, 3, 4},\n",
        "        {0, 4, 5},\n",
        "        {1, 6},\n",
        "        {1, 2, 5},\n",
        "        {2, 4},\n",
        "        {3}\n",
        "    };\n",
        "\n",
        "\n",
        "    int start_node2 = 0;\n",
        "    vector<int> distance2;\n",
        "\n",
        "    clock_t tGPU2;\n",
        "    tGPU2 = clock();\n",
        "\n",
        "    cudaError_t cudaStatus2 = bfs_gpu(graph_small, start_node2, distance2);\n",
        "\n",
        "\n",
        "    tGPU2 = clock() - tGPU2;\n",
        "    double timeTakenGPU2 = ((double)tGPU2) / CLOCKS_PER_SEC * 1000;\n",
        "    printf(\"Graph [7 nodes]: GPU took %f ms to execute \\n\", timeTakenGPU2);\n",
        "\n",
        "    if (cudaStatus2 != cudaSuccess) {\n",
        "        fprintf(stderr, \"bfs_gpu failed!\");\n",
        "        return 1;\n",
        "    }\n",
        "\n",
        "\n",
        "    return 0;\n",
        "}"
      ],
      "metadata": {
        "colab": {
          "base_uri": "https://localhost:8080/"
        },
        "outputId": "55e7e684-fb06-4b48-b9b2-995c8afcbcc8",
        "id": "ITv9s5njJABx"
      },
      "execution_count": 27,
      "outputs": [
        {
          "output_type": "stream",
          "name": "stdout",
          "text": [
            "Overwriting bfs_optimized.cu\n"
          ]
        }
      ]
    },
    {
      "cell_type": "code",
      "source": [
        "%%shell\n",
        "\n",
        "nvcc -Xptxas -v bfs_optimized.cu -o bfs_optimized\n",
        "\n",
        "nvprof  ./bfs_optimized\n",
        "\n",
        "#nvprof --print-gpu-trace ./bfs2\n",
        "\n",
        "#ncu -f --set full -o bfs2 ./bfs2"
      ],
      "metadata": {
        "colab": {
          "base_uri": "https://localhost:8080/"
        },
        "outputId": "716c9f89-abb7-4387-ded2-461289a8fd6d",
        "id": "iUXU2YH8LG-x"
      },
      "execution_count": 28,
      "outputs": [
        {
          "output_type": "stream",
          "name": "stdout",
          "text": [
            "ptxas info    : 0 bytes gmem\n",
            "ptxas info    : Compiling entry function '_Z28computeNextLevelSharedMemoryPiS_S_S_iS_S_i' for 'sm_52'\n",
            "ptxas info    : Function properties for _Z28computeNextLevelSharedMemoryPiS_S_S_iS_S_i\n",
            "    0 bytes stack frame, 0 bytes spill stores, 0 bytes spill loads\n",
            "ptxas info    : Used 17 registers, 380 bytes cmem[0], 4 bytes cmem[2]\n",
            "==25012== NVPROF is profiling process 25012, command: ./bfs_optimized\n",
            "Graph [7 nodes]: GPU took 116.425000 ms to execute \n",
            "==25012== Profiling application: ./bfs_optimized\n",
            "==25012== Profiling result:\n",
            "            Type  Time(%)      Time     Calls       Avg       Min       Max  Name\n",
            " GPU activities:   60.16%  22.560us         4  5.6400us  4.1280us  6.4960us  computeNextLevelSharedMemory(int*, int*, int*, int*, int, int*, int*, int)\n",
            "                   23.89%  8.9590us         5  1.7910us  1.6950us  2.1760us  [CUDA memcpy DtoH]\n",
            "                   15.96%  5.9840us         8     748ns     672ns  1.2160us  [CUDA memcpy HtoD]\n",
            "      API calls:   99.25%  90.137ms         6  15.023ms  2.6620us  90.117ms  cudaMalloc\n",
            "                    0.25%  230.22us         4  57.553us  4.7680us  212.89us  cudaLaunchKernel\n",
            "                    0.16%  141.04us       114  1.2370us     143ns  56.861us  cuDeviceGetAttribute\n",
            "                    0.14%  125.41us        13  9.6460us  3.1180us  19.674us  cudaMemcpy\n",
            "                    0.12%  113.21us         6  18.867us  2.6960us  95.212us  cudaFree\n",
            "                    0.04%  35.119us         4  8.7790us  7.4330us  10.202us  cudaDeviceSynchronize\n",
            "                    0.01%  12.665us         1  12.665us  12.665us  12.665us  cuDeviceGetPCIBusId\n",
            "                    0.01%  11.643us         1  11.643us  11.643us  11.643us  cuDeviceGetName\n",
            "                    0.01%  4.6780us         1  4.6780us  4.6780us  4.6780us  cuDeviceTotalMem\n",
            "                    0.00%  1.5120us         3     504ns     167ns     919ns  cuDeviceGetCount\n",
            "                    0.00%  1.0020us         4     250ns     165ns     468ns  cudaGetLastError\n",
            "                    0.00%     923ns         2     461ns     205ns     718ns  cuDeviceGet\n",
            "                    0.00%     658ns         1     658ns     658ns     658ns  cuModuleGetLoadingMode\n",
            "                    0.00%     244ns         1     244ns     244ns     244ns  cuDeviceGetUuid\n"
          ]
        },
        {
          "output_type": "execute_result",
          "data": {
            "text/plain": []
          },
          "metadata": {},
          "execution_count": 28
        }
      ]
    },
    {
      "cell_type": "markdown",
      "source": [
        "# **Scalabilitatea solutiei**"
      ],
      "metadata": {
        "id": "79Uepw4bLJFd"
      }
    },
    {
      "cell_type": "code",
      "source": [
        "import matplotlib.pyplot as plt\n",
        "\n",
        "\n",
        "nodes = [7, 1000]\n",
        "\n",
        "cpu_times = [0.003, 0.264]\n",
        "gpu_times = [0.023, 0.134]\n",
        "gpu_times_shared_mem = [0.022, 0.119]\n",
        "\n",
        "\n",
        "plt.figure(figsize=(8,6))\n",
        "plt.plot(nodes, cpu_times, label='CPU', marker='o', color='b')\n",
        "plt.plot(nodes, gpu_times, label='GPU', marker='o', color='r')\n",
        "plt.plot(nodes, gpu_times_shared_mem, label='GPU_shared_memory', marker='o', color='g')\n",
        "\n",
        "plt.xlabel('Dimensiunea grafului (numar de noduri)', fontsize=12)\n",
        "plt.ylabel('Timp de executie pt rulare BFS (ms)', fontsize=12)\n",
        "plt.title('Scalabilitatea solutiilor (GPU vs CPU)', fontsize=14)\n",
        "\n",
        "\n",
        "plt.legend()\n",
        "\n",
        "\n",
        "plt.grid(True)\n",
        "plt.show()\n"
      ],
      "metadata": {
        "colab": {
          "base_uri": "https://localhost:8080/",
          "height": 569
        },
        "id": "gqDb4RuxKNAI",
        "outputId": "f184fb9c-fd47-422a-b300-0384cbe4c802"
      },
      "execution_count": 30,
      "outputs": [
        {
          "output_type": "display_data",
          "data": {
            "text/plain": [
              "<Figure size 800x600 with 1 Axes>"
            ],
            "image/png": "[encoded data removed]"
          },
          "metadata": {}
        }
      ]
    },
    {
      "cell_type": "markdown",
      "source": [
        "# **Calcul occupancy**"
      ],
      "metadata": {
        "id": "QjgSA8RnLMqp"
      }
    },
    {
      "cell_type": "code",
      "source": [
        "!pip install pycuda\n",
        "\n",
        "import pycuda.driver as cuda\n",
        "import pycuda.autoinit\n",
        "\n",
        "def calculate_occupancy():\n",
        "\n",
        "    device = cuda.Device(0)\n",
        "    device_name = device.name()\n",
        "    compute_capability = device.compute_capability()\n",
        "    max_threads_per_block = device.max_threads_per_block\n",
        "    warp_size = device.warp_size\n",
        "    max_threads_per_multiprocessor = device.max_threads_per_multiprocessor\n",
        "    max_registers_per_multiprocessor = device.max_registers_per_multiprocessor\n",
        "\n",
        "\n",
        "    attributes = device.get_attributes()\n",
        "    shared_memory_per_multiprocessor = attributes[cuda.device_attribute.MAX_SHARED_MEMORY_PER_MULTIPROCESSOR]\n",
        "\n",
        "    # Kernel-specific details\n",
        "    threads_per_block = 256\n",
        "    registers_per_thread = 17\n",
        "    shared_memory_per_block = 0\n",
        "\n",
        "\n",
        "    warps_per_block = threads_per_block // warp_size\n",
        "    max_warps_per_multiprocessor = max_threads_per_multiprocessor // warp_size\n",
        "\n",
        "    active_warps_due_to_threads = max_threads_per_multiprocessor // threads_per_block\n",
        "    active_warps_due_to_registers = max_registers_per_multiprocessor // (registers_per_thread * warp_size)\n",
        "    active_warps_due_to_shared_memory = (\n",
        "        shared_memory_per_multiprocessor // shared_memory_per_block\n",
        "        if shared_memory_per_block > 0\n",
        "        else max_warps_per_multiprocessor\n",
        "    )\n",
        "\n",
        "    active_warps_per_multiprocessor = min(\n",
        "        active_warps_due_to_threads,\n",
        "        active_warps_due_to_registers,\n",
        "        active_warps_due_to_shared_memory,\n",
        "        max_warps_per_multiprocessor,\n",
        "    )\n",
        "\n",
        "\n",
        "    occupancy = (active_warps_per_multiprocessor / max_warps_per_multiprocessor) * 100\n",
        "\n",
        "\n",
        "    print(f\"Device: {device_name}\")\n",
        "    print(f\"Compute Capability: {compute_capability[0]}.{compute_capability[1]}\")\n",
        "    print(f\"Max Threads per Block: {max_threads_per_block}\")\n",
        "    print(f\"Max Warps per Multiprocessor: {max_warps_per_multiprocessor}\")\n",
        "    print(f\"Active Warps per Multiprocessor: {active_warps_per_multiprocessor}\")\n",
        "    print(f\"Theoretical Occupancy: {occupancy:.2f}%\")\n",
        "\n",
        "if __name__ == \"__main__\":\n",
        "    calculate_occupancy()\n",
        "\n"
      ],
      "metadata": {
        "colab": {
          "base_uri": "https://localhost:8080/"
        },
        "id": "-C5wEEZ4plph",
        "outputId": "9ed0422c-3307-4256-c481-1ffce599ef13"
      },
      "execution_count": null,
      "outputs": [
        {
          "output_type": "stream",
          "name": "stdout",
          "text": [
            "Requirement already satisfied: pycuda in /usr/local/lib/python3.10/dist-packages (2024.1.2)\n",
            "Requirement already satisfied: pytools>=2011.2 in /usr/local/lib/python3.10/dist-packages (from pycuda) (2024.1.21)\n",
            "Requirement already satisfied: platformdirs>=2.2.0 in /usr/local/lib/python3.10/dist-packages (from pycuda) (4.3.6)\n",
            "Requirement already satisfied: mako in /usr/local/lib/python3.10/dist-packages (from pycuda) (1.3.8)\n",
            "Requirement already satisfied: typing-extensions>=4.5 in /usr/local/lib/python3.10/dist-packages (from pytools>=2011.2->pycuda) (4.12.2)\n",
            "Requirement already satisfied: MarkupSafe>=0.9.2 in /usr/local/lib/python3.10/dist-packages (from mako->pycuda) (3.0.2)\n",
            "Device: Tesla T4\n",
            "Compute Capability: 7.5\n",
            "Max Threads per Block: 1024\n",
            "Max Warps per Multiprocessor: 32\n",
            "Active Warps per Multiprocessor: 4\n",
            "Theoretical Occupancy: 12.50%\n"
          ]
        }
      ]
    }
  ]
}